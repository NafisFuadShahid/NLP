{
 "cells": [
  {
   "cell_type": "code",
   "execution_count": 5,
   "metadata": {},
   "outputs": [
    {
     "data": {
      "text/html": [
       "<style type=\"text/css\">\n",
       "#T_0f603_row0_col0, #T_0f603_row0_col1, #T_0f603_row0_col2, #T_0f603_row0_col3, #T_0f603_row1_col0, #T_0f603_row1_col1, #T_0f603_row1_col2, #T_0f603_row1_col3, #T_0f603_row2_col0, #T_0f603_row2_col1, #T_0f603_row2_col2, #T_0f603_row2_col3, #T_0f603_row3_col0, #T_0f603_row3_col1, #T_0f603_row3_col2, #T_0f603_row3_col3 {\n",
       "  border: 1px solid black;\n",
       "}\n",
       "</style>\n",
       "<table id=\"T_0f603\">\n",
       "  <thead>\n",
       "    <tr>\n",
       "      <th class=\"blank level0\" >&nbsp;</th>\n",
       "      <th id=\"T_0f603_level0_col0\" class=\"col_heading level0 col0\" >Feature Extraction</th>\n",
       "      <th id=\"T_0f603_level0_col1\" class=\"col_heading level0 col1\" >Logistic Regression (LR)</th>\n",
       "      <th id=\"T_0f603_level0_col2\" class=\"col_heading level0 col2\" >Random Forest (RF)</th>\n",
       "      <th id=\"T_0f603_level0_col3\" class=\"col_heading level0 col3\" >XGBoost</th>\n",
       "    </tr>\n",
       "  </thead>\n",
       "  <tbody>\n",
       "    <tr>\n",
       "      <th id=\"T_0f603_level0_row0\" class=\"row_heading level0 row0\" >0</th>\n",
       "      <td id=\"T_0f603_row0_col0\" class=\"data row0 col0\" >Bag of Words (BoW)</td>\n",
       "      <td id=\"T_0f603_row0_col1\" class=\"data row0 col1\" >63</td>\n",
       "      <td id=\"T_0f603_row0_col2\" class=\"data row0 col2\" >95</td>\n",
       "      <td id=\"T_0f603_row0_col3\" class=\"data row0 col3\" >95</td>\n",
       "    </tr>\n",
       "    <tr>\n",
       "      <th id=\"T_0f603_level0_row1\" class=\"row_heading level0 row1\" >1</th>\n",
       "      <td id=\"T_0f603_row1_col0\" class=\"data row1 col0\" >TF-IDF</td>\n",
       "      <td id=\"T_0f603_row1_col1\" class=\"data row1 col1\" >97</td>\n",
       "      <td id=\"T_0f603_row1_col2\" class=\"data row1 col2\" >97</td>\n",
       "      <td id=\"T_0f603_row1_col3\" class=\"data row1 col3\" >96</td>\n",
       "    </tr>\n",
       "    <tr>\n",
       "      <th id=\"T_0f603_level0_row2\" class=\"row_heading level0 row2\" >2</th>\n",
       "      <td id=\"T_0f603_row2_col0\" class=\"data row2 col0\" >Word Vectors</td>\n",
       "      <td id=\"T_0f603_row2_col1\" class=\"data row2 col1\" >95</td>\n",
       "      <td id=\"T_0f603_row2_col2\" class=\"data row2 col2\" >96</td>\n",
       "      <td id=\"T_0f603_row2_col3\" class=\"data row2 col3\" >96</td>\n",
       "    </tr>\n",
       "    <tr>\n",
       "      <th id=\"T_0f603_level0_row3\" class=\"row_heading level0 row3\" >3</th>\n",
       "      <td id=\"T_0f603_row3_col0\" class=\"data row3 col0\" >Hybrid</td>\n",
       "      <td id=\"T_0f603_row3_col1\" class=\"data row3 col1\" >96</td>\n",
       "      <td id=\"T_0f603_row3_col2\" class=\"data row3 col2\" >97</td>\n",
       "      <td id=\"T_0f603_row3_col3\" class=\"data row3 col3\" >98</td>\n",
       "    </tr>\n",
       "  </tbody>\n",
       "</table>\n"
      ],
      "text/plain": [
       "<pandas.io.formats.style.Styler at 0x1fd980609e0>"
      ]
     },
     "execution_count": 5,
     "metadata": {},
     "output_type": "execute_result"
    }
   ],
   "source": [
    "import pandas as pd\n",
    "\n",
    "# Define the data\n",
    "data = {\n",
    "    \"Feature Extraction\": [\"Bag of Words (BoW)\", \"TF-IDF\", \"Word Vectors\", \"Hybrid\"],\n",
    "    \"Logistic Regression (LR)\": [63, 97, 95, 96],\n",
    "    \"Random Forest (RF)\": [95, 97, 96, 97],\n",
    "    \"XGBoost\": [95, 96, 96, 98],\n",
    "}\n",
    "\n",
    "# Create a DataFrame\n",
    "accuracy_table = pd.DataFrame(data)\n",
    "\n",
    "# Display the table with styling\n",
    "accuracy_table.style.set_properties(**{'border': '1px solid black'})\n"
   ]
  }
 ],
 "metadata": {
  "kernelspec": {
   "display_name": "Python 3",
   "language": "python",
   "name": "python3"
  },
  "language_info": {
   "codemirror_mode": {
    "name": "ipython",
    "version": 3
   },
   "file_extension": ".py",
   "mimetype": "text/x-python",
   "name": "python",
   "nbconvert_exporter": "python",
   "pygments_lexer": "ipython3",
   "version": "3.12.1"
  }
 },
 "nbformat": 4,
 "nbformat_minor": 2
}
